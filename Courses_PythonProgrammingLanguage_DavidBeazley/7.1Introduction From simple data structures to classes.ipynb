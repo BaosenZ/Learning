{
 "cells": [
  {
   "cell_type": "code",
   "execution_count": 1,
   "metadata": {},
   "outputs": [],
   "source": [
    "# holding.py\n",
    "\n",
    "class Holding(object):\n",
    "    def __init__(self, name, date, shares, price):\n",
    "        self.name = name\n",
    "        self.date = date\n",
    "        self.shares = shares\n",
    "        self.price = price\n",
    "\n",
    "    def cost(self):\n",
    "        return self.shares * self.price\n",
    "\n",
    "    def sell(self, nshares):\n",
    "        self.shares -= nshares\n",
    "\n",
    "import csv\n",
    "\n",
    "def read_portfolio(filename):\n",
    "    portfolio = []\n",
    "    with open(filename, 'r') as f:\n",
    "        rows = csv.reader(f)\n",
    "        headers = next(rows)\n",
    "        for row in rows:\n",
    "            h = Holding(row[0], row[1], int(row[2]), float(row[3]))\n",
    "            portfolio.append(h)\n",
    "    return portfolio"
   ]
  },
  {
   "cell_type": "code",
   "execution_count": 5,
   "metadata": {},
   "outputs": [
    {
     "data": {
      "text/plain": [
       "<__main__.Holding at 0x170bd7e4188>"
      ]
     },
     "execution_count": 5,
     "metadata": {},
     "output_type": "execute_result"
    }
   ],
   "source": [
    "h= Holding('AA','2007-06-11',100,32.2)\n",
    "h"
   ]
  },
  {
   "cell_type": "code",
   "execution_count": 6,
   "metadata": {},
   "outputs": [
    {
     "data": {
      "text/plain": [
       "'AA'"
      ]
     },
     "execution_count": 6,
     "metadata": {},
     "output_type": "execute_result"
    }
   ],
   "source": [
    "h.name"
   ]
  },
  {
   "cell_type": "code",
   "execution_count": null,
   "metadata": {},
   "outputs": [],
   "source": []
  }
 ],
 "metadata": {
  "kernelspec": {
   "display_name": "Python 3",
   "language": "python",
   "name": "python3"
  },
  "language_info": {
   "codemirror_mode": {
    "name": "ipython",
    "version": 3
   },
   "file_extension": ".py",
   "mimetype": "text/x-python",
   "name": "python",
   "nbconvert_exporter": "python",
   "pygments_lexer": "ipython3",
   "version": "3.7.4"
  }
 },
 "nbformat": 4,
 "nbformat_minor": 2
}
