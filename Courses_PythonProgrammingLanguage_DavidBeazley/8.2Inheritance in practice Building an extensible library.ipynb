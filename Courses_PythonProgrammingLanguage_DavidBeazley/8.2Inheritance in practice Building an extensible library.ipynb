{
 "cells": [
  {
   "cell_type": "code",
   "execution_count": 12,
   "metadata": {},
   "outputs": [],
   "source": [
    "# table.py\n",
    "\n",
    "def print_table(objects, colnames):\n",
    "    '''\n",
    "    Make a nicely formatted table showing attributes from a list of objects\n",
    "    '''\n",
    "\n",
    "    # Emit table headers\n",
    "    for colname in colnames:\n",
    "        print('{:>10s}'.format(colname), end=' ')\n",
    "    print()\n",
    "    for obj in objects:\n",
    "        # Emit a row of table data\n",
    "        for colname in colnames:\n",
    "            print('{:>10s}'.format(str(getattr(obj, colname))), end=' ')\n",
    "        print()\n",
    "\n",
    "def print_table(objects, colnames, formatter):\n",
    "    '''\n",
    "    Make a nicely formatted table showing attributes from a list of objects\n",
    "    '''\n",
    "\n",
    "    formatter.headings(colnames)\n",
    "    for obj in objects:\n",
    "        rowdata = [str(getattr(obj, colname)) for colname in colnames ]\n",
    "        formatter.row(rowdata)\n",
    "\n",
    "class TableFormatter(object):\n",
    "    # Serves a design spec for making tables (use inheritance to customize)\n",
    "    def headings(self, headers):\n",
    "        raise NotImplementedError\n",
    "\n",
    "    def row(self, rowdata):\n",
    "        raise NotImplementedError\n",
    "\n",
    "class TextTableFormatter(TableFormatter):\n",
    "    def headings(self, headers):\n",
    "        for header in headers:\n",
    "            print('{:>10s}'.format(header), end=' ')\n",
    "        print()\n",
    "\n",
    "    def row(self, rowdata):\n",
    "        for item in rowdata:\n",
    "            print('{:>10s}'.format(item), end=' ')\n",
    "        print()\n",
    "\n",
    "class CSVTableFormatter(TableFormatter):\n",
    "    def headings(self, headers):\n",
    "        print(','.join(headers))\n",
    "\n",
    "    def row(self, rowdata):\n",
    "        print(','.join(rowdata))\n",
    "\n",
    "class HTMLTableFormatter(TableFormatter):\n",
    "    def headings(self, headers):\n",
    "        print('<tr>', end='')\n",
    "        for h in headers:\n",
    "            print('<th>{}</th>'.format(h), end='')\n",
    "        print('</tr>')\n",
    "\n",
    "    def row(self, rowdata):\n",
    "        print('<tr>', end='')\n",
    "        for d in rowdata:\n",
    "            print('<td>{}</td>'.format(d), end='')\n",
    "        print('</tr>')\n"
   ]
  },
  {
   "cell_type": "code",
   "execution_count": 15,
   "metadata": {},
   "outputs": [
    {
     "ename": "NameError",
     "evalue": "name 'portfolio' is not defined",
     "output_type": "error",
     "traceback": [
      "\u001b[1;31m---------------------------------------------------------------------------\u001b[0m",
      "\u001b[1;31mNameError\u001b[0m                                 Traceback (most recent call last)",
      "\u001b[1;32m<ipython-input-15-a81499e07690>\u001b[0m in \u001b[0;36m<module>\u001b[1;34m\u001b[0m\n\u001b[0;32m      1\u001b[0m \u001b[1;32mimport\u001b[0m \u001b[0mtable\u001b[0m\u001b[1;33m\u001b[0m\u001b[1;33m\u001b[0m\u001b[0m\n\u001b[0;32m      2\u001b[0m \u001b[0mformatter\u001b[0m \u001b[1;33m=\u001b[0m \u001b[0mCSVTableFormatter\u001b[0m\u001b[1;33m(\u001b[0m\u001b[1;33m)\u001b[0m\u001b[1;33m\u001b[0m\u001b[1;33m\u001b[0m\u001b[0m\n\u001b[1;32m----> 3\u001b[1;33m \u001b[0mtable\u001b[0m\u001b[1;33m.\u001b[0m\u001b[0mprint_table\u001b[0m\u001b[1;33m(\u001b[0m\u001b[0mportfolio\u001b[0m\u001b[1;33m,\u001b[0m\u001b[1;33m[\u001b[0m\u001b[1;34m'name'\u001b[0m\u001b[1;33m,\u001b[0m\u001b[1;34m'shares'\u001b[0m\u001b[1;33m]\u001b[0m\u001b[1;33m,\u001b[0m\u001b[0mformatter\u001b[0m\u001b[1;33m)\u001b[0m\u001b[1;33m\u001b[0m\u001b[1;33m\u001b[0m\u001b[0m\n\u001b[0m",
      "\u001b[1;31mNameError\u001b[0m: name 'portfolio' is not defined"
     ]
    }
   ],
   "source": [
    "import table\n",
    "formatter = CSVTableFormatter()\n",
    "table.print_table(portfolio,['name','shares'],formatter)"
   ]
  },
  {
   "cell_type": "code",
   "execution_count": 14,
   "metadata": {},
   "outputs": [
    {
     "ename": "AttributeError",
     "evalue": "module 'table' has no attribute 'HTMLTableFormatter'",
     "output_type": "error",
     "traceback": [
      "\u001b[1;31m---------------------------------------------------------------------------\u001b[0m",
      "\u001b[1;31mAttributeError\u001b[0m                            Traceback (most recent call last)",
      "\u001b[1;32m<ipython-input-14-8e62a86b45f6>\u001b[0m in \u001b[0;36m<module>\u001b[1;34m\u001b[0m\n\u001b[0;32m      1\u001b[0m \u001b[1;32mimport\u001b[0m \u001b[0mtable\u001b[0m\u001b[1;33m\u001b[0m\u001b[1;33m\u001b[0m\u001b[0m\n\u001b[1;32m----> 2\u001b[1;33m \u001b[0mformatter\u001b[0m \u001b[1;33m=\u001b[0m \u001b[0mtable\u001b[0m\u001b[1;33m.\u001b[0m\u001b[0mHTMLTableFormatter\u001b[0m\u001b[1;33m(\u001b[0m\u001b[1;33m)\u001b[0m\u001b[1;33m\u001b[0m\u001b[1;33m\u001b[0m\u001b[0m\n\u001b[0m\u001b[0;32m      3\u001b[0m \u001b[0mtable\u001b[0m\u001b[1;33m.\u001b[0m\u001b[0mprint_table\u001b[0m\u001b[1;33m(\u001b[0m\u001b[0mportfolio\u001b[0m\u001b[1;33m,\u001b[0m\u001b[1;33m[\u001b[0m\u001b[1;34m'name'\u001b[0m\u001b[1;33m,\u001b[0m\u001b[1;34m'shares'\u001b[0m\u001b[1;33m]\u001b[0m\u001b[1;33m,\u001b[0m\u001b[0mformatter\u001b[0m\u001b[1;33m)\u001b[0m\u001b[1;33m\u001b[0m\u001b[1;33m\u001b[0m\u001b[0m\n",
      "\u001b[1;31mAttributeError\u001b[0m: module 'table' has no attribute 'HTMLTableFormatter'"
     ]
    }
   ],
   "source": [
    "import table\n",
    "formatter = table.HTMLTableFormatter()\n",
    "table.print_table(portfolio,['name','shares'],formatter)"
   ]
  },
  {
   "cell_type": "code",
   "execution_count": 17,
   "metadata": {},
   "outputs": [
    {
     "ename": "AttributeError",
     "evalue": "module 'table' has no attribute 'HTMLTableFormatter'",
     "output_type": "error",
     "traceback": [
      "\u001b[1;31m---------------------------------------------------------------------------\u001b[0m",
      "\u001b[1;31mAttributeError\u001b[0m                            Traceback (most recent call last)",
      "\u001b[1;32m<ipython-input-17-a812de31caa2>\u001b[0m in \u001b[0;36m<module>\u001b[1;34m\u001b[0m\n\u001b[0;32m      2\u001b[0m \u001b[0mportfolio\u001b[0m \u001b[1;33m=\u001b[0m \u001b[0mholding\u001b[0m\u001b[1;33m.\u001b[0m\u001b[0mread_portfolio\u001b[0m\u001b[1;33m(\u001b[0m\u001b[1;34m'Data/portfolio.csv'\u001b[0m\u001b[1;33m)\u001b[0m\u001b[1;33m\u001b[0m\u001b[1;33m\u001b[0m\u001b[0m\n\u001b[0;32m      3\u001b[0m \u001b[1;32mimport\u001b[0m \u001b[0mtable\u001b[0m\u001b[1;33m\u001b[0m\u001b[1;33m\u001b[0m\u001b[0m\n\u001b[1;32m----> 4\u001b[1;33m \u001b[0mformatter\u001b[0m \u001b[1;33m=\u001b[0m \u001b[0mtable\u001b[0m\u001b[1;33m.\u001b[0m\u001b[0mHTMLTableFormatter\u001b[0m\u001b[1;33m(\u001b[0m\u001b[1;33m)\u001b[0m\u001b[1;33m\u001b[0m\u001b[1;33m\u001b[0m\u001b[0m\n\u001b[0m\u001b[0;32m      5\u001b[0m \u001b[0mtable\u001b[0m\u001b[1;33m.\u001b[0m\u001b[0mprint_table\u001b[0m\u001b[1;33m(\u001b[0m\u001b[0mportfolio\u001b[0m\u001b[1;33m,\u001b[0m \u001b[1;33m[\u001b[0m\u001b[1;34m'name'\u001b[0m\u001b[1;33m,\u001b[0m \u001b[1;34m'shares'\u001b[0m\u001b[1;33m]\u001b[0m\u001b[1;33m,\u001b[0m\u001b[0mformatter\u001b[0m\u001b[1;33m)\u001b[0m\u001b[1;33m\u001b[0m\u001b[1;33m\u001b[0m\u001b[0m\n",
      "\u001b[1;31mAttributeError\u001b[0m: module 'table' has no attribute 'HTMLTableFormatter'"
     ]
    }
   ],
   "source": [
    "import holding\n",
    "portfolio = holding.read_portfolio('Data/portfolio.csv')\n",
    "import table\n",
    "formatter = table.HTMLTableFormatter()\n",
    "table.print_table(portfolio, ['name', 'shares'],formatter)"
   ]
  },
  {
   "cell_type": "code",
   "execution_count": null,
   "metadata": {},
   "outputs": [],
   "source": []
  }
 ],
 "metadata": {
  "kernelspec": {
   "display_name": "Python 3",
   "language": "python",
   "name": "python3"
  },
  "language_info": {
   "codemirror_mode": {
    "name": "ipython",
    "version": 3
   },
   "file_extension": ".py",
   "mimetype": "text/x-python",
   "name": "python",
   "nbconvert_exporter": "python",
   "pygments_lexer": "ipython3",
   "version": "3.7.4"
  }
 },
 "nbformat": 4,
 "nbformat_minor": 2
}
