{
 "cells": [
  {
   "cell_type": "code",
   "execution_count": 1,
   "metadata": {},
   "outputs": [
    {
     "name": "stdout",
     "output_type": "stream",
     "text": [
      "rdkit version:  2024.03.5\n"
     ]
    }
   ],
   "source": [
    "import rdkit\n",
    "from rdkit import Chem\n",
    "\n",
    "print(\"rdkit version: \", rdkit.__version__)"
   ]
  },
  {
   "cell_type": "code",
   "execution_count": 2,
   "metadata": {},
   "outputs": [
    {
     "name": "stdout",
     "output_type": "stream",
     "text": [
      "Molecule CCO: Alcohol\n",
      "Molecule CCN: Amine\n",
      "Molecule CCC: Other\n",
      "Molecule C=O: Other\n",
      "Molecule CCCCCCCCN(CCCCCCCC)C(=O)[C@H](C)O[C@H](C)C(=O)N(CCCCCCCC)CCCCCCCC: Dialkylamide\n"
     ]
    }
   ],
   "source": [
    "# Define more molecules to classify\n",
    "molecules = [\"CCO\", \"CCN\", \"CCC\", \"C=O\", \"CCCCCCCCN(CCCCCCCC)C(=O)[C@H](C)O[C@H](C)C(=O)N(CCCCCCCC)CCCCCCCC\"]  # Ethanol, ethylamine, propane, formaldehyde\n",
    "\n",
    "# SMARTS for alcohol and amine\n",
    "alcohol_smarts = \"[OX2H]\"\n",
    "amine_smarts = \"[NX3;H2]\"\n",
    "dialkylamide_smarts = \"[C][C](=O)N([C])[C]\"\n",
    "\n",
    "# Classify each molecule\n",
    "for smiles in molecules:\n",
    "    mol = Chem.MolFromSmiles(smiles)\n",
    "    has_alcohol = mol.HasSubstructMatch(Chem.MolFromSmarts(alcohol_smarts))\n",
    "    has_amine = mol.HasSubstructMatch(Chem.MolFromSmarts(amine_smarts))\n",
    "    has_dialkylamide = mol.HasSubstructMatch(Chem.MolFromSmarts(dialkylamide_smarts))\n",
    "\n",
    "    classification = []\n",
    "    if has_alcohol:\n",
    "        classification.append(\"Alcohol\")\n",
    "    if has_amine:\n",
    "        classification.append(\"Amine\")\n",
    "    if has_dialkylamide:\n",
    "        classification.append(\"Dialkylamide\")\n",
    "\n",
    "    if not classification:\n",
    "        classification.append(\"Other\")\n",
    "\n",
    "    print(f\"Molecule {smiles}: {', '.join(classification)}\")\n"
   ]
  },
  {
   "cell_type": "markdown",
   "metadata": {},
   "source": [
    "## Visualize SMARTS"
   ]
  },
  {
   "cell_type": "code",
   "execution_count": null,
   "metadata": {},
   "outputs": [],
   "source": [
    "from rdkit import Chem\n",
    "from IPython.display import Image\n",
    "import requests\n",
    "import urllib"
   ]
  },
  {
   "cell_type": "code",
   "execution_count": null,
   "metadata": {},
   "outputs": [],
   "source": [
    "baseurl = \"https://smarts.plus/smartsview/download_rest?\"\n"
   ]
  },
  {
   "cell_type": "code",
   "execution_count": null,
   "metadata": {},
   "outputs": [],
   "source": [
    "def get_img(query):\n",
    "    url = baseurl+query\n",
    "    res = requests.get(url)\n",
    "    return Image(res.content)"
   ]
  },
  {
   "cell_type": "code",
   "execution_count": null,
   "metadata": {},
   "outputs": [],
   "source": [
    "im1 = get_img(\"smarts=[CX3](=[OX1])[OX2][CX3](=[OX1])\")\n",
    "im1"
   ]
  }
 ],
 "metadata": {
  "kernelspec": {
   "display_name": "base",
   "language": "python",
   "name": "python3"
  },
  "language_info": {
   "codemirror_mode": {
    "name": "ipython",
    "version": 3
   },
   "file_extension": ".py",
   "mimetype": "text/x-python",
   "name": "python",
   "nbconvert_exporter": "python",
   "pygments_lexer": "ipython3",
   "version": "3.11.7"
  }
 },
 "nbformat": 4,
 "nbformat_minor": 2
}
