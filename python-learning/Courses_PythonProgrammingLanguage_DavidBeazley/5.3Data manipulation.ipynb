{
 "cells": [
  {
   "cell_type": "markdown",
   "metadata": {},
   "source": [
    "# 5.3Data manipulation"
   ]
  },
  {
   "cell_type": "code",
   "execution_count": 12,
   "metadata": {},
   "outputs": [],
   "source": [
    "# port.py\n",
    "\n",
    "import csv\n",
    "\n",
    "def read_portfolio(filename, *, errors='warn'):\n",
    "    '''\n",
    "    Read a CSV file with name, date, shares, price data into a list. \n",
    "    '''\n",
    "    if errors not in { 'warn', 'silent', 'raise' }:\n",
    "        raise ValueError(\"errors must be one of 'warn', 'silent', 'raise'\")\n",
    "\n",
    "    portfolio = []      # List of records\n",
    "    with open(filename, 'r') as f:\n",
    "        rows = csv.reader(f)\n",
    "        headers = next(rows)   # Skip the header row\n",
    "        for rowno, row in enumerate(rows, start=1):\n",
    "            try:\n",
    "                row[2] = int(row[2])\n",
    "                row[3] = float(row[3])\n",
    "            except ValueError as err:   \n",
    "                if errors == 'warn':\n",
    "                    print('Row:', rowno, 'Bad row:', row)\n",
    "                    print('Row:', rowno, 'Reason:', err)\n",
    "                elif errors == 'raise':\n",
    "                    raise    # Reraises the last exception\n",
    "                else:\n",
    "                    pass     # Ignore\n",
    "                continue    # Skips to the next row\n",
    "            # record = tuple(row)相比于元组，字典更加方便观看\n",
    "            record = {\n",
    "                'name': row[0],\n",
    "                'date': row[1],\n",
    "                'shares' : row[2],\n",
    "                'price': row[3]\n",
    "                }\n",
    "            portfolio.append(record)\n",
    "    return portfolio\n",
    "\n",
    "portfolio = read_portfolio('Data/portfolio.csv')"
   ]
  },
  {
   "cell_type": "code",
   "execution_count": 13,
   "metadata": {},
   "outputs": [
    {
     "data": {
      "text/plain": [
       "[{'name': 'AA', 'date': '2007-06-11', 'shares': 100, 'price': 32.2},\n",
       " {'name': 'IBM', 'date': '2007-05-13', 'shares': 50, 'price': 91.1},\n",
       " {'name': 'CAT', 'date': '2006-09-23', 'shares': 150, 'price': 83.44},\n",
       " {'name': 'MSFT', 'date': '2007-05-17', 'shares': 200, 'price': 51.23},\n",
       " {'name': 'GE', 'date': '2006-02-01', 'shares': 95, 'price': 40.37},\n",
       " {'name': 'MSFT', 'date': '2006-10-31', 'shares': 50, 'price': 65.1},\n",
       " {'name': 'IBM', 'date': '2006-07-09', 'shares': 100, 'price': 70.44}]"
      ]
     },
     "execution_count": 13,
     "metadata": {},
     "output_type": "execute_result"
    }
   ],
   "source": [
    "portfolio"
   ]
  },
  {
   "cell_type": "code",
   "execution_count": 14,
   "metadata": {},
   "outputs": [
    {
     "name": "stdout",
     "output_type": "stream",
     "text": [
      "{'name': 'AA', 'date': '2007-06-11', 'shares': 100, 'price': 32.2}\n",
      "{'name': 'IBM', 'date': '2007-05-13', 'shares': 50, 'price': 91.1}\n",
      "{'name': 'CAT', 'date': '2006-09-23', 'shares': 150, 'price': 83.44}\n",
      "{'name': 'MSFT', 'date': '2007-05-17', 'shares': 200, 'price': 51.23}\n",
      "{'name': 'GE', 'date': '2006-02-01', 'shares': 95, 'price': 40.37}\n",
      "{'name': 'MSFT', 'date': '2006-10-31', 'shares': 50, 'price': 65.1}\n",
      "{'name': 'IBM', 'date': '2006-07-09', 'shares': 100, 'price': 70.44}\n"
     ]
    }
   ],
   "source": [
    "for holding in portfolio: \n",
    "    print(holding)"
   ]
  },
  {
   "cell_type": "markdown",
   "metadata": {},
   "source": [
    "### 计算总数"
   ]
  },
  {
   "cell_type": "code",
   "execution_count": 16,
   "metadata": {},
   "outputs": [
    {
     "data": {
      "text/plain": [
       "44671.15"
      ]
     },
     "execution_count": 16,
     "metadata": {},
     "output_type": "execute_result"
    }
   ],
   "source": [
    "total = 0.0\n",
    "for holding in portfolio:\n",
    "    total += holding['shares']*holding['price']\n",
    "total"
   ]
  },
  {
   "cell_type": "markdown",
   "metadata": {},
   "source": [
    "### 得到每一行数据的名字"
   ]
  },
  {
   "cell_type": "code",
   "execution_count": 17,
   "metadata": {},
   "outputs": [
    {
     "data": {
      "text/plain": [
       "['AA', 'IBM', 'CAT', 'MSFT', 'GE', 'MSFT', 'IBM']"
      ]
     },
     "execution_count": 17,
     "metadata": {},
     "output_type": "execute_result"
    }
   ],
   "source": [
    "names = []\n",
    "for holding in portfolio:\n",
    "    names.append(holding['name'])\n",
    "names"
   ]
  },
  {
   "cell_type": "markdown",
   "metadata": {},
   "source": [
    "### 得到大于100的股票"
   ]
  },
  {
   "cell_type": "code",
   "execution_count": 18,
   "metadata": {},
   "outputs": [
    {
     "data": {
      "text/plain": [
       "[{'name': 'CAT', 'date': '2006-09-23', 'shares': 150, 'price': 83.44},\n",
       " {'name': 'MSFT', 'date': '2007-05-17', 'shares': 200, 'price': 51.23}]"
      ]
     },
     "execution_count": 18,
     "metadata": {},
     "output_type": "execute_result"
    }
   ],
   "source": [
    "more100 = []\n",
    "for holding in portfolio:\n",
    "    if holding['shares'] > 100:\n",
    "        more100.append(holding)\n",
    "more100"
   ]
  },
  {
   "cell_type": "markdown",
   "metadata": {},
   "source": [
    "### 一行数据实现相同的功能"
   ]
  },
  {
   "cell_type": "code",
   "execution_count": 19,
   "metadata": {},
   "outputs": [
    {
     "data": {
      "text/plain": [
       "44671.15"
      ]
     },
     "execution_count": 19,
     "metadata": {},
     "output_type": "execute_result"
    }
   ],
   "source": [
    "total = sum([holding['shares']*holding['price'] for holding in portfolio])\n",
    "total"
   ]
  },
  {
   "cell_type": "code",
   "execution_count": 20,
   "metadata": {},
   "outputs": [
    {
     "data": {
      "text/plain": [
       "['AA', 'IBM', 'CAT', 'MSFT', 'GE', 'MSFT', 'IBM']"
      ]
     },
     "execution_count": 20,
     "metadata": {},
     "output_type": "execute_result"
    }
   ],
   "source": [
    "names = [holding['name'] for holding in portfolio]\n",
    "names"
   ]
  },
  {
   "cell_type": "code",
   "execution_count": 21,
   "metadata": {},
   "outputs": [
    {
     "data": {
      "text/plain": [
       "[{'name': 'CAT', 'date': '2006-09-23', 'shares': 150, 'price': 83.44},\n",
       " {'name': 'MSFT', 'date': '2007-05-17', 'shares': 200, 'price': 51.23}]"
      ]
     },
     "execution_count": 21,
     "metadata": {},
     "output_type": "execute_result"
    }
   ],
   "source": [
    "more100 = [holding for holding in portfolio if holding['shares'] > 100]\n",
    "more100"
   ]
  },
  {
   "cell_type": "code",
   "execution_count": 22,
   "metadata": {},
   "outputs": [
    {
     "data": {
      "text/plain": [
       "['CAT', 'MSFT']"
      ]
     },
     "execution_count": 22,
     "metadata": {},
     "output_type": "execute_result"
    }
   ],
   "source": [
    "more100 = [holding['name'] for holding in portfolio if holding['shares']>100]\n",
    "more100"
   ]
  },
  {
   "cell_type": "markdown",
   "metadata": {},
   "source": [
    "### 数据去重"
   ]
  },
  {
   "cell_type": "code",
   "execution_count": 23,
   "metadata": {},
   "outputs": [
    {
     "name": "stdout",
     "output_type": "stream",
     "text": [
      "['AA', 'IBM', 'CAT', 'MSFT', 'GE', 'MSFT', 'IBM']\n",
      "{'IBM', 'MSFT', 'CAT', 'GE', 'AA'}\n"
     ]
    },
    {
     "data": {
      "text/plain": [
       "{'AA', 'CAT', 'GE', 'IBM', 'MSFT'}"
      ]
     },
     "execution_count": 23,
     "metadata": {},
     "output_type": "execute_result"
    }
   ],
   "source": [
    "names = [holding['name'] for holding in portfolio]\n",
    "print(names)\n",
    "unique_names = set(names)\n",
    "print(unique_names)\n",
    "unique_names = {holding['name'] for holding in portfolio} #一行代码实现\n",
    "unique_names"
   ]
  },
  {
   "cell_type": "markdown",
   "metadata": {},
   "source": [
    "### 将集合数据变成字符串"
   ]
  },
  {
   "cell_type": "code",
   "execution_count": 24,
   "metadata": {},
   "outputs": [
    {
     "data": {
      "text/plain": [
       "'IBM,MSFT,CAT,GE,AA'"
      ]
     },
     "execution_count": 24,
     "metadata": {},
     "output_type": "execute_result"
    }
   ],
   "source": [
    "namestr = ','.join(unique_names)\n",
    "namestr"
   ]
  },
  {
   "cell_type": "markdown",
   "metadata": {},
   "source": [
    "### 爬虫拿到对应的数据"
   ]
  },
  {
   "cell_type": "code",
   "execution_count": 25,
   "metadata": {},
   "outputs": [],
   "source": [
    "#namestr = ','.join(unique_names)\n",
    "#namestr\n",
    "#import urllib.request\n",
    "#u = urllib.request.urlopen('http://finance.yahoo.com/d/quotes.csv?s={}&f=l1'.format(namestr))\n",
    "#data = u.read()\n",
    "#data\n",
    "#这个爬虫不知道为什么老是报错，直接给出结果爬虫的结果吧：\n",
    "data = b'72.51\\n9.27\\n153.74\\n30.23\\n53.00\\n'"
   ]
  },
  {
   "cell_type": "code",
   "execution_count": 28,
   "metadata": {},
   "outputs": [
    {
     "name": "stdout",
     "output_type": "stream",
     "text": [
      "[b'72.51', b'9.27', b'153.74', b'30.23', b'53.00']\n"
     ]
    },
    {
     "data": {
      "text/plain": [
       "{'AA', 'CAT', 'GE', 'IBM', 'MSFT'}"
      ]
     },
     "execution_count": 28,
     "metadata": {},
     "output_type": "execute_result"
    }
   ],
   "source": [
    "pricedata = data.split()\n",
    "print(pricedata)\n",
    "unique_names"
   ]
  },
  {
   "cell_type": "markdown",
   "metadata": {},
   "source": [
    "### zip function的应用"
   ]
  },
  {
   "cell_type": "code",
   "execution_count": 29,
   "metadata": {},
   "outputs": [
    {
     "name": "stdout",
     "output_type": "stream",
     "text": [
      "IBM = b'72.51'\n",
      "MSFT = b'9.27'\n",
      "CAT = b'153.74'\n",
      "GE = b'30.23'\n",
      "AA = b'53.00'\n"
     ]
    }
   ],
   "source": [
    "for name, price in zip(unique_names, pricedata):   #问题：name和price怎么正确对应呢？\n",
    "    print(name, '=', price)"
   ]
  },
  {
   "cell_type": "code",
   "execution_count": 30,
   "metadata": {},
   "outputs": [
    {
     "data": {
      "text/plain": [
       "{'IBM': b'72.51',\n",
       " 'MSFT': b'9.27',\n",
       " 'CAT': b'153.74',\n",
       " 'GE': b'30.23',\n",
       " 'AA': b'53.00'}"
      ]
     },
     "execution_count": 30,
     "metadata": {},
     "output_type": "execute_result"
    }
   ],
   "source": [
    "prices = dict(zip(unique_names, pricedata))\n",
    "prices"
   ]
  },
  {
   "cell_type": "code",
   "execution_count": 31,
   "metadata": {},
   "outputs": [
    {
     "data": {
      "text/plain": [
       "{'IBM': 72.51, 'MSFT': 9.27, 'CAT': 153.74, 'GE': 30.23, 'AA': 53.0}"
      ]
     },
     "execution_count": 31,
     "metadata": {},
     "output_type": "execute_result"
    }
   ],
   "source": [
    "prices = {name: float(prices) for name, prices in zip(unique_names, pricedata)}\n",
    "prices"
   ]
  },
  {
   "cell_type": "code",
   "execution_count": 38,
   "metadata": {},
   "outputs": [
    {
     "name": "stdout",
     "output_type": "stream",
     "text": [
      "[{'name': 'AA', 'date': '2007-06-11', 'shares': 100, 'price': 32.2}, {'name': 'IBM', 'date': '2007-05-13', 'shares': 50, 'price': 91.1}, {'name': 'CAT', 'date': '2006-09-23', 'shares': 150, 'price': 83.44}, {'name': 'MSFT', 'date': '2007-05-17', 'shares': 200, 'price': 51.23}, {'name': 'GE', 'date': '2006-02-01', 'shares': 95, 'price': 40.37}, {'name': 'MSFT', 'date': '2006-10-31', 'shares': 50, 'price': 65.1}, {'name': 'IBM', 'date': '2006-07-09', 'shares': 100, 'price': 70.44}]\n"
     ]
    },
    {
     "data": {
      "text/plain": [
       "44426.85"
      ]
     },
     "execution_count": 38,
     "metadata": {},
     "output_type": "execute_result"
    }
   ],
   "source": [
    "current_value = 0.0\n",
    "portfolio = read_portfolio('Data/portfolio.csv')\n",
    "print(portfolio)\n",
    "for holding in portfolio:\n",
    "    current_value += holding['shares']*prices[holding['name']]\n",
    "current_value"
   ]
  },
  {
   "cell_type": "code",
   "execution_count": 34,
   "metadata": {},
   "outputs": [
    {
     "data": {
      "text/plain": [
       "44426.85"
      ]
     },
     "execution_count": 34,
     "metadata": {},
     "output_type": "execute_result"
    }
   ],
   "source": [
    "current_value = sum([holding['shares']*prices[holding['name']] for holding in portfolio])\n",
    "current_value"
   ]
  },
  {
   "cell_type": "code",
   "execution_count": null,
   "metadata": {},
   "outputs": [],
   "source": []
  }
 ],
 "metadata": {
  "kernelspec": {
   "display_name": "Python 3",
   "language": "python",
   "name": "python3"
  },
  "language_info": {
   "codemirror_mode": {
    "name": "ipython",
    "version": 3
   },
   "file_extension": ".py",
   "mimetype": "text/x-python",
   "name": "python",
   "nbconvert_exporter": "python",
   "pygments_lexer": "ipython3",
   "version": "3.7.4"
  }
 },
 "nbformat": 4,
 "nbformat_minor": 2
}
