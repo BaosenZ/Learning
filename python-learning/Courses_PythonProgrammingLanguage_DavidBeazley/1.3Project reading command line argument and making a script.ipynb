{
 "cells": [
  {
   "cell_type": "code",
   "execution_count": 16,
   "metadata": {},
   "outputs": [],
   "source": [
    "#nextbusV2.py\n",
    "#!/usr/bin/env python3\n",
    "\n",
    "import sys\n",
    "if len(sys.argv) != 3:\n",
    "    raise SystemExit('Usage:nextbus.py route stopid')\n",
    "    \n",
    "route = sys.argv[1]\n",
    "stopid = sys.argv[2]\n",
    "\n",
    "import urllib.request\n",
    "\n",
    "u = urllib.request.urlopen('http://ctabustracker.com/bustime/map/getStopPredictions.jsp?route={}&stop={}'.format(route,stopid))\n",
    "data = u.read()\n",
    "\n",
    "from xml.etree.ElementTree import XML\n",
    "doc = XML(data)\n",
    "\n",
    "for pt in doc.findall('.//pt'):\n",
    "    print(pt.text)"
   ]
  },
  {
   "cell_type": "code",
   "execution_count": 29,
   "metadata": {},
   "outputs": [
    {
     "name": "stdout",
     "output_type": "stream",
     "text": [
      "5 MIN\n",
      "13 MIN\n",
      "23 MIN\n"
     ]
    }
   ],
   "source": [
    "%run nextbusV2.py 22 14787"
   ]
  }
 ],
 "metadata": {
  "kernelspec": {
   "display_name": "Python 3",
   "language": "python",
   "name": "python3"
  },
  "language_info": {
   "codemirror_mode": {
    "name": "ipython",
    "version": 3
   },
   "file_extension": ".py",
   "mimetype": "text/x-python",
   "name": "python",
   "nbconvert_exporter": "python",
   "pygments_lexer": "ipython3",
   "version": "3.7.4"
  }
 },
 "nbformat": 4,
 "nbformat_minor": 2
}
