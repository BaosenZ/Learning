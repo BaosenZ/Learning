{
 "cells": [
  {
   "cell_type": "code",
   "execution_count": 1,
   "metadata": {},
   "outputs": [],
   "source": [
    "# table.py\n",
    "\n",
    "def print_table(objects, colnames):\n",
    "    '''\n",
    "    Make a nicely formatted table showing attributes from a list of objects\n",
    "    '''\n",
    "    for colname in colnames:\n",
    "        print('{:>10s}'.format(colname), end=' ')\n",
    "    print()\n",
    "    for obj in objects:\n",
    "        for colname in colnames:\n",
    "            print('{:>10s}'.format(str(getattr(obj, colname))), end=' ')\n",
    "        print()"
   ]
  },
  {
   "cell_type": "code",
   "execution_count": 10,
   "metadata": {},
   "outputs": [
    {
     "name": "stdout",
     "output_type": "stream",
     "text": [
      "      name     shares \n",
      "        AA        100 \n",
      "       IBM         50 \n",
      "       CAT        150 \n",
      "      MSFT        200 \n",
      "        GE         95 \n",
      "      MSFT         50 \n",
      "       IBM        100 \n"
     ]
    }
   ],
   "source": [
    "import holding\n",
    "portfolio = holding.read_portfolio('Data/portfolio.csv')\n",
    "import table\n",
    "table.print_table(portfolio, ['name', 'shares'])"
   ]
  },
  {
   "cell_type": "code",
   "execution_count": 11,
   "metadata": {},
   "outputs": [
    {
     "name": "stdout",
     "output_type": "stream",
     "text": [
      "      name     shares      price \n",
      "        AA        100       32.2 \n",
      "       IBM         50       91.1 \n",
      "       CAT        150      83.44 \n",
      "      MSFT        200      51.23 \n",
      "        GE         95      40.37 \n",
      "      MSFT         50       65.1 \n",
      "       IBM        100      70.44 \n"
     ]
    }
   ],
   "source": [
    "table.print_table(portfolio, ['name','shares','price'])  "
   ]
  },
  {
   "cell_type": "code",
   "execution_count": 12,
   "metadata": {},
   "outputs": [
    {
     "name": "stdout",
     "output_type": "stream",
     "text": [
      "    shares       name      price \n",
      "       100         AA       32.2 \n",
      "        50        IBM       91.1 \n",
      "       150        CAT      83.44 \n",
      "       200       MSFT      51.23 \n",
      "        95         GE      40.37 \n",
      "        50       MSFT       65.1 \n",
      "       100        IBM      70.44 \n"
     ]
    }
   ],
   "source": [
    "table.print_table(portfolio,['shares','name','price'])  #对比In[11]，我们可以改变列的顺序"
   ]
  }
 ],
 "metadata": {
  "kernelspec": {
   "display_name": "Python 3",
   "language": "python",
   "name": "python3"
  },
  "language_info": {
   "codemirror_mode": {
    "name": "ipython",
    "version": 3
   },
   "file_extension": ".py",
   "mimetype": "text/x-python",
   "name": "python",
   "nbconvert_exporter": "python",
   "pygments_lexer": "ipython3",
   "version": "3.7.4"
  }
 },
 "nbformat": 4,
 "nbformat_minor": 2
}
