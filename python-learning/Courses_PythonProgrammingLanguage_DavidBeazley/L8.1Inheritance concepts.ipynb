{
 "cells": [
  {
   "cell_type": "code",
   "execution_count": 1,
   "metadata": {},
   "outputs": [],
   "source": [
    "class Parent(object):\n",
    "    def __init__(self, value):\n",
    "        self.value = value\n",
    "\n",
    "    def spam(self):\n",
    "        print('Parent.spam', self.value)\n",
    "\n",
    "    def grok(self):\n",
    "        print('Parent.grok')\n",
    "        self.spam()"
   ]
  },
  {
   "cell_type": "code",
   "execution_count": 2,
   "metadata": {},
   "outputs": [
    {
     "data": {
      "text/plain": [
       "42"
      ]
     },
     "execution_count": 2,
     "metadata": {},
     "output_type": "execute_result"
    }
   ],
   "source": [
    "p = Parent(42)\n",
    "p.value"
   ]
  },
  {
   "cell_type": "code",
   "execution_count": 3,
   "metadata": {},
   "outputs": [
    {
     "name": "stdout",
     "output_type": "stream",
     "text": [
      "Parent.spam 42\n"
     ]
    }
   ],
   "source": [
    "p.spam()"
   ]
  },
  {
   "cell_type": "code",
   "execution_count": 4,
   "metadata": {},
   "outputs": [
    {
     "name": "stdout",
     "output_type": "stream",
     "text": [
      "Parent.grok\n",
      "Parent.spam 42\n"
     ]
    }
   ],
   "source": [
    "p.grok()"
   ]
  },
  {
   "cell_type": "markdown",
   "metadata": {},
   "source": [
    "以上代码定义了parent。接下来讲解5中inheritance的用法："
   ]
  },
  {
   "cell_type": "markdown",
   "metadata": {},
   "source": [
    "1.add method to existing code. define a new class that borrow the code from existing class"
   ]
  },
  {
   "cell_type": "code",
   "execution_count": 5,
   "metadata": {},
   "outputs": [],
   "source": [
    "class Child1(Parent):   #Child1 inheritance from Parent. The name in parenthesis is the parent class\n",
    "    def yow(self):      #we can add new method \"yow\" in this new class\n",
    "        print('Child1.yow')\n",
    "c = Child1(42)"
   ]
  },
  {
   "cell_type": "code",
   "execution_count": 6,
   "metadata": {},
   "outputs": [
    {
     "data": {
      "text/plain": [
       "42"
      ]
     },
     "execution_count": 6,
     "metadata": {},
     "output_type": "execute_result"
    }
   ],
   "source": [
    "c.value"
   ]
  },
  {
   "cell_type": "code",
   "execution_count": 8,
   "metadata": {},
   "outputs": [
    {
     "name": "stdout",
     "output_type": "stream",
     "text": [
      "Parent.spam 42\n"
     ]
    }
   ],
   "source": [
    "c.spam()"
   ]
  },
  {
   "cell_type": "code",
   "execution_count": 9,
   "metadata": {},
   "outputs": [
    {
     "name": "stdout",
     "output_type": "stream",
     "text": [
      "Parent.grok\n",
      "Parent.spam 42\n"
     ]
    }
   ],
   "source": [
    "c.grok()"
   ]
  },
  {
   "cell_type": "code",
   "execution_count": 10,
   "metadata": {},
   "outputs": [
    {
     "name": "stdout",
     "output_type": "stream",
     "text": [
      "Child1.yow\n"
     ]
    }
   ],
   "source": [
    "c.yow()     # we can get this \"yow\" method as well"
   ]
  },
  {
   "cell_type": "markdown",
   "metadata": {},
   "source": [
    "2.redefine one of the methods that already there"
   ]
  },
  {
   "cell_type": "code",
   "execution_count": 14,
   "metadata": {},
   "outputs": [],
   "source": [
    "class Child2(Parent):\n",
    "    def spam(self):\n",
    "        print('Child2.spam',self.value)\n",
    "c2 = Child2(42)"
   ]
  },
  {
   "cell_type": "code",
   "execution_count": 15,
   "metadata": {},
   "outputs": [
    {
     "name": "stdout",
     "output_type": "stream",
     "text": [
      "Child2.spam 42\n"
     ]
    }
   ],
   "source": [
    "c2.spam()     #replace spam method in the original coding"
   ]
  },
  {
   "cell_type": "code",
   "execution_count": 16,
   "metadata": {},
   "outputs": [
    {
     "name": "stdout",
     "output_type": "stream",
     "text": [
      "Parent.grok\n",
      "Child2.spam 42\n"
     ]
    }
   ],
   "source": [
    "c2.grok()"
   ]
  },
  {
   "cell_type": "markdown",
   "metadata": {},
   "source": [
    "3.ability to wrap an existing method"
   ]
  },
  {
   "cell_type": "code",
   "execution_count": 17,
   "metadata": {},
   "outputs": [],
   "source": [
    "class Child3(Parent):\n",
    "    def spam(self):\n",
    "        print('Child3.spam') #change original\n",
    "        super().spam()      #invokes the original spam() method\n",
    "c3 = Child3(42)"
   ]
  },
  {
   "cell_type": "code",
   "execution_count": 18,
   "metadata": {},
   "outputs": [
    {
     "name": "stdout",
     "output_type": "stream",
     "text": [
      "Child3.spam\n",
      "Parent.spam 42\n"
     ]
    }
   ],
   "source": [
    "c3.spam()"
   ]
  },
  {
   "cell_type": "code",
   "execution_count": 19,
   "metadata": {},
   "outputs": [
    {
     "name": "stdout",
     "output_type": "stream",
     "text": [
      "Parent.grok\n",
      "Child3.spam\n",
      "Parent.spam 42\n"
     ]
    }
   ],
   "source": [
    "c3.grok()"
   ]
  },
  {
   "cell_type": "markdown",
   "metadata": {},
   "source": [
    "4.add new attribute to the object"
   ]
  },
  {
   "cell_type": "code",
   "execution_count": 20,
   "metadata": {},
   "outputs": [],
   "source": [
    "class Child4(Parent):\n",
    "    def __init__(self, value, extra):\n",
    "        self.extra = extra\n",
    "        super().__init__(value)    #initialize parent\n",
    "c4 = Child4(42,37)"
   ]
  },
  {
   "cell_type": "code",
   "execution_count": 21,
   "metadata": {},
   "outputs": [
    {
     "data": {
      "text/plain": [
       "42"
      ]
     },
     "execution_count": 21,
     "metadata": {},
     "output_type": "execute_result"
    }
   ],
   "source": [
    "c4.value"
   ]
  },
  {
   "cell_type": "code",
   "execution_count": 22,
   "metadata": {},
   "outputs": [
    {
     "data": {
      "text/plain": [
       "37"
      ]
     },
     "execution_count": 22,
     "metadata": {},
     "output_type": "execute_result"
    }
   ],
   "source": [
    "c4.extra"
   ]
  },
  {
   "cell_type": "markdown",
   "metadata": {},
   "source": [
    "5.have more parents"
   ]
  },
  {
   "cell_type": "code",
   "execution_count": 24,
   "metadata": {},
   "outputs": [],
   "source": [
    "class Parent2(object):\n",
    "    def yow(self):\n",
    "        print('Parent2.yow')\n",
    "        \n",
    "class Child5(Parent, Parent2):   #two parents merge together\n",
    "    pass\n",
    "c5 = Child5(42)"
   ]
  },
  {
   "cell_type": "code",
   "execution_count": 25,
   "metadata": {},
   "outputs": [
    {
     "name": "stdout",
     "output_type": "stream",
     "text": [
      "Parent.spam 42\n"
     ]
    }
   ],
   "source": [
    "c5.spam()"
   ]
  },
  {
   "cell_type": "code",
   "execution_count": 26,
   "metadata": {},
   "outputs": [
    {
     "name": "stdout",
     "output_type": "stream",
     "text": [
      "Parent.grok\n",
      "Parent.spam 42\n"
     ]
    }
   ],
   "source": [
    "c5.grok()"
   ]
  },
  {
   "cell_type": "code",
   "execution_count": 27,
   "metadata": {},
   "outputs": [
    {
     "name": "stdout",
     "output_type": "stream",
     "text": [
      "Parent2.yow\n"
     ]
    }
   ],
   "source": [
    "c5.yow()"
   ]
  }
 ],
 "metadata": {
  "kernelspec": {
   "display_name": "Python 3",
   "language": "python",
   "name": "python3"
  },
  "language_info": {
   "codemirror_mode": {
    "name": "ipython",
    "version": 3
   },
   "file_extension": ".py",
   "mimetype": "text/x-python",
   "name": "python",
   "nbconvert_exporter": "python",
   "pygments_lexer": "ipython3",
   "version": "3.7.4"
  }
 },
 "nbformat": 4,
 "nbformat_minor": 2
}
