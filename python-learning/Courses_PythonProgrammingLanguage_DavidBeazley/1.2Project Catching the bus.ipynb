{
 "cells": [
  {
   "cell_type": "code",
   "execution_count": 2,
   "metadata": {},
   "outputs": [
    {
     "name": "stdout",
     "output_type": "stream",
     "text": [
      "4 MIN\n",
      "16 MIN\n",
      "24 MIN\n"
     ]
    }
   ],
   "source": [
    "#nextbusV1.py\n",
    "\n",
    "import urllib.request\n",
    "\n",
    "u = urllib.request.urlopen('http://ctabustracker.com/bustime/map/getStopPredictions.jsp?route=22&stop=14787')\n",
    "data = u.read()\n",
    "\n",
    "from xml.etree.ElementTree import XML\n",
    "doc = XML(data)\n",
    "\n",
    "for pt in doc.findall('.//pt'):\n",
    "    print(pt.text)"
   ]
  }
 ],
 "metadata": {
  "kernelspec": {
   "display_name": "Python 3",
   "language": "python",
   "name": "python3"
  },
  "language_info": {
   "codemirror_mode": {
    "name": "ipython",
    "version": 3
   },
   "file_extension": ".py",
   "mimetype": "text/x-python",
   "name": "python",
   "nbconvert_exporter": "python",
   "pygments_lexer": "ipython3",
   "version": "3.7.4"
  }
 },
 "nbformat": 4,
 "nbformat_minor": 2
}
