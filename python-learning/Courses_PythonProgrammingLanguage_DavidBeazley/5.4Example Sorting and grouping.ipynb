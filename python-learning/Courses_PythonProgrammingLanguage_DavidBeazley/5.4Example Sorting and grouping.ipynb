{
 "cells": [
  {
   "cell_type": "code",
   "execution_count": 1,
   "metadata": {},
   "outputs": [
    {
     "name": "stdout",
     "output_type": "stream",
     "text": [
      "{'name': 'AA', 'date': '2007-06-11', 'shares': 100, 'price': 32.2}\n",
      "{'name': 'IBM', 'date': '2007-05-13', 'shares': 50, 'price': 91.1}\n",
      "{'name': 'CAT', 'date': '2006-09-23', 'shares': 150, 'price': 83.44}\n",
      "{'name': 'MSFT', 'date': '2007-05-17', 'shares': 200, 'price': 51.23}\n",
      "{'name': 'GE', 'date': '2006-02-01', 'shares': 95, 'price': 40.37}\n",
      "{'name': 'MSFT', 'date': '2006-10-31', 'shares': 50, 'price': 65.1}\n",
      "{'name': 'IBM', 'date': '2006-07-09', 'shares': 100, 'price': 70.44}\n"
     ]
    }
   ],
   "source": [
    "# port.py\n",
    "\n",
    "import csv\n",
    "\n",
    "def read_portfolio(filename, *, errors='warn'):\n",
    "    '''\n",
    "    Read a CSV file with name, date, shares, price data into a list. \n",
    "    '''\n",
    "    if errors not in { 'warn', 'silent', 'raise' }:\n",
    "        raise ValueError(\"errors must be one of 'warn', 'silent', 'raise'\")\n",
    "\n",
    "    portfolio = []      # List of records\n",
    "    with open(filename, 'r') as f:\n",
    "        rows = csv.reader(f)\n",
    "        headers = next(rows)   # Skip the header row\n",
    "        for rowno, row in enumerate(rows, start=1):\n",
    "            try:\n",
    "                row[2] = int(row[2])\n",
    "                row[3] = float(row[3])\n",
    "            except ValueError as err:   \n",
    "                if errors == 'warn':\n",
    "                    print('Row:', rowno, 'Bad row:', row)\n",
    "                    print('Row:', rowno, 'Reason:', err)\n",
    "                elif errors == 'raise':\n",
    "                    raise    # Reraises the last exception\n",
    "                else:\n",
    "                    pass     # Ignore\n",
    "                continue    # Skips to the next row\n",
    "            # record = tuple(row)相比于元组，字典更加方便观看\n",
    "            record = {\n",
    "                'name': row[0],\n",
    "                'date': row[1],\n",
    "                'shares' : row[2],\n",
    "                'price': row[3]\n",
    "                }\n",
    "            portfolio.append(record)\n",
    "    return portfolio\n",
    "\n",
    "portfolio = read_portfolio('Data/portfolio.csv')\n",
    "for holding in portfolio: \n",
    "    print(holding)"
   ]
  },
  {
   "cell_type": "markdown",
   "metadata": {},
   "source": [
    "### sorting"
   ]
  },
  {
   "cell_type": "code",
   "execution_count": 3,
   "metadata": {},
   "outputs": [
    {
     "data": {
      "text/plain": [
       "{'name': 'AA', 'date': '2007-06-11', 'shares': 100, 'price': 32.2}"
      ]
     },
     "execution_count": 3,
     "metadata": {},
     "output_type": "execute_result"
    }
   ],
   "source": [
    "def holding_name(holding):\n",
    "    return holding['name']\n",
    "portfolio[0]"
   ]
  },
  {
   "cell_type": "code",
   "execution_count": 4,
   "metadata": {},
   "outputs": [
    {
     "data": {
      "text/plain": [
       "'AA'"
      ]
     },
     "execution_count": 4,
     "metadata": {},
     "output_type": "execute_result"
    }
   ],
   "source": [
    "holding_name(portfolio[0])"
   ]
  },
  {
   "cell_type": "code",
   "execution_count": 5,
   "metadata": {},
   "outputs": [
    {
     "name": "stdout",
     "output_type": "stream",
     "text": [
      "{'name': 'AA', 'date': '2007-06-11', 'shares': 100, 'price': 32.2}\n",
      "{'name': 'CAT', 'date': '2006-09-23', 'shares': 150, 'price': 83.44}\n",
      "{'name': 'GE', 'date': '2006-02-01', 'shares': 95, 'price': 40.37}\n",
      "{'name': 'IBM', 'date': '2007-05-13', 'shares': 50, 'price': 91.1}\n",
      "{'name': 'IBM', 'date': '2006-07-09', 'shares': 100, 'price': 70.44}\n",
      "{'name': 'MSFT', 'date': '2007-05-17', 'shares': 200, 'price': 51.23}\n",
      "{'name': 'MSFT', 'date': '2006-10-31', 'shares': 50, 'price': 65.1}\n"
     ]
    }
   ],
   "source": [
    "portfolio.sort(key=holding_name)\n",
    "for holding in portfolio:\n",
    "    print(holding)"
   ]
  },
  {
   "cell_type": "markdown",
   "metadata": {},
   "source": [
    "### sorting"
   ]
  },
  {
   "cell_type": "code",
   "execution_count": 6,
   "metadata": {},
   "outputs": [
    {
     "name": "stdout",
     "output_type": "stream",
     "text": [
      "{'name': 'IBM', 'date': '2007-05-13', 'shares': 50, 'price': 91.1}\n",
      "{'name': 'MSFT', 'date': '2006-10-31', 'shares': 50, 'price': 65.1}\n",
      "{'name': 'GE', 'date': '2006-02-01', 'shares': 95, 'price': 40.37}\n",
      "{'name': 'AA', 'date': '2007-06-11', 'shares': 100, 'price': 32.2}\n",
      "{'name': 'IBM', 'date': '2006-07-09', 'shares': 100, 'price': 70.44}\n",
      "{'name': 'CAT', 'date': '2006-09-23', 'shares': 150, 'price': 83.44}\n",
      "{'name': 'MSFT', 'date': '2007-05-17', 'shares': 200, 'price': 51.23}\n"
     ]
    }
   ],
   "source": [
    "def holding_shares(holding):\n",
    "    return holding['shares']\n",
    "portfolio.sort(key=holding_shares)\n",
    "for holding in portfolio:\n",
    "    print(holding)"
   ]
  },
  {
   "cell_type": "code",
   "execution_count": 10,
   "metadata": {},
   "outputs": [
    {
     "name": "stdout",
     "output_type": "stream",
     "text": [
      "{'name': 'AA', 'date': '2007-06-11', 'shares': 100, 'price': 32.2}\n",
      "{'name': 'CAT', 'date': '2006-09-23', 'shares': 150, 'price': 83.44}\n",
      "{'name': 'GE', 'date': '2006-02-01', 'shares': 95, 'price': 40.37}\n",
      "{'name': 'IBM', 'date': '2007-05-13', 'shares': 50, 'price': 91.1}\n",
      "{'name': 'IBM', 'date': '2006-07-09', 'shares': 100, 'price': 70.44}\n",
      "{'name': 'MSFT', 'date': '2006-10-31', 'shares': 50, 'price': 65.1}\n",
      "{'name': 'MSFT', 'date': '2007-05-17', 'shares': 200, 'price': 51.23}\n"
     ]
    }
   ],
   "source": [
    "def holding_name(holding):\n",
    "    return holding['name']\n",
    "portfolio.sort(key=lambda holding: holding['name'])\n",
    "for holding in portfolio:\n",
    "    print(holding)"
   ]
  },
  {
   "cell_type": "code",
   "execution_count": 11,
   "metadata": {},
   "outputs": [
    {
     "data": {
      "text/plain": [
       "{'name': 'AA', 'date': '2007-06-11', 'shares': 100, 'price': 32.2}"
      ]
     },
     "execution_count": 11,
     "metadata": {},
     "output_type": "execute_result"
    }
   ],
   "source": [
    "min(portfolio, key=lambda holding:holding['price'])"
   ]
  },
  {
   "cell_type": "code",
   "execution_count": 12,
   "metadata": {},
   "outputs": [
    {
     "data": {
      "text/plain": [
       "{'name': 'IBM', 'date': '2007-05-13', 'shares': 50, 'price': 91.1}"
      ]
     },
     "execution_count": 12,
     "metadata": {},
     "output_type": "execute_result"
    }
   ],
   "source": [
    "max(portfolio, key=lambda holding:holding['price'])"
   ]
  },
  {
   "cell_type": "markdown",
   "metadata": {},
   "source": [
    "### grouping"
   ]
  },
  {
   "cell_type": "code",
   "execution_count": 13,
   "metadata": {},
   "outputs": [
    {
     "name": "stdout",
     "output_type": "stream",
     "text": [
      "NAME: AA\n",
      "    {'name': 'AA', 'date': '2007-06-11', 'shares': 100, 'price': 32.2}\n",
      "NAME: CAT\n",
      "    {'name': 'CAT', 'date': '2006-09-23', 'shares': 150, 'price': 83.44}\n",
      "NAME: GE\n",
      "    {'name': 'GE', 'date': '2006-02-01', 'shares': 95, 'price': 40.37}\n",
      "NAME: IBM\n",
      "    {'name': 'IBM', 'date': '2007-05-13', 'shares': 50, 'price': 91.1}\n",
      "    {'name': 'IBM', 'date': '2006-07-09', 'shares': 100, 'price': 70.44}\n",
      "NAME: MSFT\n",
      "    {'name': 'MSFT', 'date': '2006-10-31', 'shares': 50, 'price': 65.1}\n",
      "    {'name': 'MSFT', 'date': '2007-05-17', 'shares': 200, 'price': 51.23}\n"
     ]
    }
   ],
   "source": [
    "import itertools\n",
    "for name, items in itertools.groupby(portfolio, key=lambda holding:holding['name']):\n",
    "    print('NAME:', name)\n",
    "    for it in items:\n",
    "        print('   ', it)"
   ]
  },
  {
   "cell_type": "code",
   "execution_count": 14,
   "metadata": {},
   "outputs": [
    {
     "data": {
      "text/plain": [
       "[{'name': 'IBM', 'date': '2007-05-13', 'shares': 50, 'price': 91.1},\n",
       " {'name': 'IBM', 'date': '2006-07-09', 'shares': 100, 'price': 70.44}]"
      ]
     },
     "execution_count": 14,
     "metadata": {},
     "output_type": "execute_result"
    }
   ],
   "source": [
    "by_name = {name:list(items)\n",
    "          for name, items in itertools.groupby(portfolio,key=lambda holding:holding['name'])}\n",
    "by_name['IBM']"
   ]
  },
  {
   "cell_type": "code",
   "execution_count": null,
   "metadata": {},
   "outputs": [],
   "source": []
  }
 ],
 "metadata": {
  "kernelspec": {
   "display_name": "Python 3",
   "language": "python",
   "name": "python3"
  },
  "language_info": {
   "codemirror_mode": {
    "name": "ipython",
    "version": 3
   },
   "file_extension": ".py",
   "mimetype": "text/x-python",
   "name": "python",
   "nbconvert_exporter": "python",
   "pygments_lexer": "ipython3",
   "version": "3.7.4"
  }
 },
 "nbformat": 4,
 "nbformat_minor": 2
}
