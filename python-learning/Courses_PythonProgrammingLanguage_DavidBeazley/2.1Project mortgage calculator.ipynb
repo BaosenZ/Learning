{
 "cells": [
  {
   "cell_type": "code",
   "execution_count": 10,
   "metadata": {},
   "outputs": [
    {
     "name": "stdout",
     "output_type": "stream",
     "text": [
      "Total_paid: 966279.5999999957\n"
     ]
    }
   ],
   "source": [
    "#mortgageV1.py\n",
    "#\n",
    "#find out how long to pay off a mortgage\n",
    "\n",
    "principal = 500000\n",
    "payment = 2684.11\n",
    "rate = 0.05\n",
    "total_paid = 0\n",
    "\n",
    "while principal > 0:\n",
    "    interest = principal*(0.05/12)\n",
    "    principal = principal + interest - payment\n",
    "    total_paid += payment\n",
    "\n",
    "print('Total_paid:', total_paid)"
   ]
  },
  {
   "cell_type": "code",
   "execution_count": 11,
   "metadata": {},
   "outputs": [
    {
     "name": "stdout",
     "output_type": "stream",
     "text": [
      "Total_paid: 824971.3499999966\n"
     ]
    }
   ],
   "source": [
    "#mortgageV2.py\n",
    "#\n",
    "#find out how long to pay off a mortgage\n",
    "\n",
    "principal = 500000\n",
    "payment = 2684.11\n",
    "rate = 0.05\n",
    "total_paid = 0\n",
    "\n",
    "#extra payment info\n",
    "extra_payment = 1000\n",
    "extra_payment_start_month = 1\n",
    "extra_payment_end_month = 60\n",
    "month = 0\n",
    "\n",
    "while principal > 0:\n",
    "    month += 1\n",
    "    if month >= extra_payment_start_month and month <= extra_payment_end_month:\n",
    "        total_payment = payment + extra_payment\n",
    "    else:\n",
    "        total_payment = payment\n",
    "    interest = principal*(0.05/12)\n",
    "    principal = principal + interest - total_payment\n",
    "    total_paid += total_payment\n",
    "\n",
    "print('Total_paid:', total_paid)"
   ]
  }
 ],
 "metadata": {
  "kernelspec": {
   "display_name": "Python 3",
   "language": "python",
   "name": "python3"
  },
  "language_info": {
   "codemirror_mode": {
    "name": "ipython",
    "version": 3
   },
   "file_extension": ".py",
   "mimetype": "text/x-python",
   "name": "python",
   "nbconvert_exporter": "python",
   "pygments_lexer": "ipython3",
   "version": "3.7.4"
  }
 },
 "nbformat": 4,
 "nbformat_minor": 2
}
